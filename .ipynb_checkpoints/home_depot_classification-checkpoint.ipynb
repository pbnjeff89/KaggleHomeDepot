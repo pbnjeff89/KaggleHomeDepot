{
 "cells": [
  {
   "cell_type": "markdown",
   "metadata": {},
   "source": [
    "## Initial procedures"
   ]
  },
  {
   "cell_type": "code",
   "execution_count": 63,
   "metadata": {
    "collapsed": true
   },
   "outputs": [],
   "source": [
    "import pandas as pd\n",
    "import matplotlib as mpl\n",
    "import numpy as np\n",
    "from sklearn.ensemble import RandomForestRegressor\n",
    "from sklearn import cross_validation"
   ]
  },
  {
   "cell_type": "code",
   "execution_count": 2,
   "metadata": {
    "collapsed": false
   },
   "outputs": [],
   "source": [
    "folder = 'c:/users/jeff/dropbox/kaggle_home_depot_data/'\n",
    "train_path = folder + 'train.csv'\n",
    "test_path = folder + 'test.csv'\n",
    "\n",
    "train = pd.read_csv(train_path)\n",
    "test = pd.read_csv(test_path)\n",
    "\n",
    "combined = train.append(test)\n",
    "combined = combined.reset_index().drop('index', axis=1)"
   ]
  },
  {
   "cell_type": "markdown",
   "metadata": {},
   "source": [
    "## Data cleaning & engineering"
   ]
  },
  {
   "cell_type": "code",
   "execution_count": 5,
   "metadata": {
    "collapsed": true
   },
   "outputs": [],
   "source": [
    "# I have some rows that are just NaNs\n",
    "\n",
    "def cleanNans(attributes):\n",
    "\n",
    "    return attributes[~attributes['product_uid'].isnull() |\n",
    "                      ~attributes['name'].isnull() |\n",
    "                      ~attributes['value'].isnull()]"
   ]
  },
  {
   "cell_type": "code",
   "execution_count": 6,
   "metadata": {
    "collapsed": true
   },
   "outputs": [],
   "source": [
    "def standardizeBullets(attributes):\n",
    "    \n",
    "    attributes.loc[attributes['name'].str.contains('Bullet'),\n",
    "                  'name']['name'] = 'Bullet'\n",
    "    return attributes"
   ]
  },
  {
   "cell_type": "code",
   "execution_count": 7,
   "metadata": {
    "collapsed": true
   },
   "outputs": [],
   "source": [
    "def get_uids(df, name_value):\n",
    "    \n",
    "    product_uids = df[df['name'] == name_value]['product_uid'].unique()\n",
    "    \n",
    "    return product_uids"
   ]
  },
  {
   "cell_type": "code",
   "execution_count": 8,
   "metadata": {
    "collapsed": true
   },
   "outputs": [],
   "source": [
    "def get_bulletpointwords(attributes, product_uid):\n",
    "    \n",
    "    bullets = attributes[(attributes['name'] == 'Bullet') &\n",
    "                        (attributes['product_uid'] == product_uid)]\n",
    "    \n",
    "    bullet_words = []\n",
    "    \n",
    "    for index,row in bullets.iterrows():\n",
    "        bullet_point_words = row['value'].split(' ')\n",
    "        for word in bullet_point_words:\n",
    "            if word not in bullet_words:\n",
    "                bullet_words.append(word)\n",
    "    \n",
    "    return bullet_words"
   ]
  },
  {
   "cell_type": "code",
   "execution_count": 9,
   "metadata": {
    "collapsed": false
   },
   "outputs": [],
   "source": [
    "def getBrands(df):\n",
    "\n",
    "    product_uids = df['product_uid'].unique()\n",
    "    \n",
    "    return brand_list"
   ]
  },
  {
   "cell_type": "code",
   "execution_count": 10,
   "metadata": {
    "collapsed": true
   },
   "outputs": [],
   "source": [
    "def breakDownQueryNames(df):\n",
    "    \n",
    "    # Lowercase for everything to normalize\n",
    "    df['query_terms'] = df['search_term'].str.lower()\n",
    "    df['productname_terms'] = df['product_title'].str.lower()\n",
    "    df['query_terms'] = df['query_terms'].str.split(' ')\n",
    "    df['productname_terms'] = df['productname_terms'].str.split(' ')\n",
    "    \n",
    "    return df"
   ]
  },
  {
   "cell_type": "code",
   "execution_count": 11,
   "metadata": {
    "collapsed": true
   },
   "outputs": [],
   "source": [
    "def removeLists(df):\n",
    "    \n",
    "    return df.drop(['query_terms','productname_terms'],axis=1)"
   ]
  },
  {
   "cell_type": "code",
   "execution_count": 12,
   "metadata": {
    "collapsed": true
   },
   "outputs": [],
   "source": [
    "def percentQueryInProductName(df):\n",
    "    \n",
    "    df = breakDownQueryNames(df)\n",
    "    \n",
    "    df['percentQueryInName'] = pd.Series()\n",
    "    \n",
    "    for i in range(len(df['query_terms'])):\n",
    "\n",
    "        numQueryTerms = len(df['query_terms'][i])\n",
    "        numNameTerms = len(df['productname_terms'][i])\n",
    "        queryTermsInName = 0\n",
    "\n",
    "        for j in range(numQueryTerms):\n",
    "\n",
    "            if df['query_terms'][i][j] in df['productname_terms'][i]:\n",
    "\n",
    "                queryTermsInName += 1\n",
    "\n",
    "        df.loc[i,'percentQueryInName'] = float(queryTermsInName) / numNameTerms\n",
    "        \n",
    "        printCompleted(i, len(df['query_terms']))\n",
    "        \n",
    "    df = removeLists(df)\n",
    "    \n",
    "    return df"
   ]
  },
  {
   "cell_type": "code",
   "execution_count": 27,
   "metadata": {
    "collapsed": false
   },
   "outputs": [],
   "source": [
    "def printCompleted(i, total):\n",
    "    \n",
    "    if i % 5000 == 0:\n",
    "        \n",
    "        print('{0}'.format(str(i) + '/' + str(total) + ' completed!'))"
   ]
  },
  {
   "cell_type": "code",
   "execution_count": 28,
   "metadata": {
    "collapsed": true
   },
   "outputs": [],
   "source": [
    "def hasOneMatch(df):\n",
    "    \n",
    "    df = breakDownQueryNames(df)\n",
    "    \n",
    "    df['hasMatch'] = pd.Series()\n",
    "    \n",
    "    for i in range(len(df['query_terms'])):\n",
    "        \n",
    "        numQueryTerms = len(df['query_terms'][i])\n",
    "        queryTermInName = False\n",
    "\n",
    "        for j in range(numQueryTerms):\n",
    "\n",
    "            if df['query_terms'][i][j] in df['productname_terms'][i]:\n",
    "\n",
    "                queryTermInName = True\n",
    "\n",
    "        df.loc[i,'hasMatch'] = queryTermInName\n",
    "        \n",
    "        printCompleted(i, len(df['query_terms']))\n",
    "    \n",
    "    df = removeLists(df)\n",
    "    \n",
    "    return df"
   ]
  },
  {
   "cell_type": "code",
   "execution_count": 15,
   "metadata": {
    "collapsed": false
   },
   "outputs": [],
   "source": [
    "def isNumber(string):\n",
    "    \n",
    "    try:\n",
    "        float(string)\n",
    "        return True\n",
    "    except ValueError:\n",
    "        return False\n",
    "\n",
    "def queryProductHaveNumeric(df):\n",
    "    \n",
    "    df['BothHaveNumbers'] = pd.Series()\n",
    "    df = breakDownQueryNames(df)\n",
    "    \n",
    "    for i in range(len(df['query_terms'])):\n",
    "    \n",
    "        queryNumber = False\n",
    "        productNumber = False\n",
    "\n",
    "        for word in df['query_terms'][i]:\n",
    "\n",
    "            if isNumber(str(word)):\n",
    "\n",
    "                queryNumber = True\n",
    "\n",
    "        for word in df['productname_terms'][i]:\n",
    "\n",
    "            if isNumber(str(word)):\n",
    "\n",
    "                productNumber = True\n",
    "\n",
    "        if (queryNumber and productNumber):\n",
    "\n",
    "            df['BothHaveNumbers'] = True\n",
    "\n",
    "        else:\n",
    "\n",
    "            df['BothHaveNumbers'] = False\n",
    "            \n",
    "        df = removeLists(df)\n",
    "    \n",
    "    return df"
   ]
  },
  {
   "cell_type": "code",
   "execution_count": 16,
   "metadata": {
    "collapsed": true
   },
   "outputs": [],
   "source": [
    "def dropUnnecessaryData(df):\n",
    "    \n",
    "    df = df.drop(['product_uid','product_title','search_term'], axis=1)\n",
    "    \n",
    "    return df"
   ]
  },
  {
   "cell_type": "markdown",
   "metadata": {},
   "source": [
    "## First try: simple features, Random Forests with regression\n",
    "\n",
    "I don't want to start with anything too complex, so I'll keep the scripts very simple. For this first try, I will employ a simple regression model. The reason I will use that sort of model is because the training set contains a \"Relevance\" parameter that is continuous in [1,3]. The goal here is to predict what a human would write down, and that set is\n",
    "\n",
    "$$G={1,2,3}$$\n",
    "\n",
    "After I make my set of predictions with Random Forests, I will round to the nearest integer in the set **G** to obtain the prediction as per the specifications of the problem."
   ]
  },
  {
   "cell_type": "code",
   "execution_count": 21,
   "metadata": {
    "collapsed": false
   },
   "outputs": [
    {
     "name": "stdout",
     "output_type": "stream",
     "text": [
      "0/240760 completed!\n",
      "1000/240760 completed!\n",
      "2000/240760 completed!\n",
      "3000/240760 completed!\n",
      "4000/240760 completed!\n",
      "5000/240760 completed!\n",
      "6000/240760 completed!\n",
      "7000/240760 completed!\n",
      "8000/240760 completed!\n",
      "9000/240760 completed!\n",
      "10000/240760 completed!\n",
      "11000/240760 completed!\n",
      "12000/240760 completed!\n",
      "13000/240760 completed!\n",
      "14000/240760 completed!\n",
      "15000/240760 completed!\n",
      "16000/240760 completed!\n",
      "17000/240760 completed!\n",
      "18000/240760 completed!\n",
      "19000/240760 completed!\n",
      "20000/240760 completed!\n",
      "21000/240760 completed!\n",
      "22000/240760 completed!\n",
      "23000/240760 completed!\n",
      "24000/240760 completed!\n",
      "25000/240760 completed!\n",
      "26000/240760 completed!\n",
      "27000/240760 completed!\n",
      "28000/240760 completed!\n",
      "29000/240760 completed!\n",
      "30000/240760 completed!\n",
      "31000/240760 completed!\n",
      "32000/240760 completed!\n",
      "33000/240760 completed!\n",
      "34000/240760 completed!\n",
      "35000/240760 completed!\n",
      "36000/240760 completed!\n",
      "37000/240760 completed!\n",
      "38000/240760 completed!\n",
      "39000/240760 completed!\n",
      "40000/240760 completed!\n",
      "41000/240760 completed!\n",
      "42000/240760 completed!\n",
      "43000/240760 completed!\n",
      "44000/240760 completed!\n",
      "45000/240760 completed!\n",
      "46000/240760 completed!\n",
      "47000/240760 completed!\n",
      "48000/240760 completed!\n",
      "49000/240760 completed!\n",
      "50000/240760 completed!\n",
      "51000/240760 completed!\n",
      "52000/240760 completed!\n",
      "53000/240760 completed!\n",
      "54000/240760 completed!\n",
      "55000/240760 completed!\n",
      "56000/240760 completed!\n",
      "57000/240760 completed!\n",
      "58000/240760 completed!\n",
      "59000/240760 completed!\n",
      "60000/240760 completed!\n",
      "61000/240760 completed!\n",
      "62000/240760 completed!\n",
      "63000/240760 completed!\n",
      "64000/240760 completed!\n",
      "65000/240760 completed!\n",
      "66000/240760 completed!\n",
      "67000/240760 completed!\n",
      "68000/240760 completed!\n",
      "69000/240760 completed!\n",
      "70000/240760 completed!\n",
      "71000/240760 completed!\n",
      "72000/240760 completed!\n",
      "73000/240760 completed!\n",
      "74000/240760 completed!\n",
      "75000/240760 completed!\n",
      "76000/240760 completed!\n",
      "77000/240760 completed!\n",
      "78000/240760 completed!\n",
      "79000/240760 completed!\n",
      "80000/240760 completed!\n",
      "81000/240760 completed!\n",
      "82000/240760 completed!\n",
      "83000/240760 completed!\n",
      "84000/240760 completed!\n",
      "85000/240760 completed!\n",
      "86000/240760 completed!\n",
      "87000/240760 completed!\n",
      "88000/240760 completed!\n",
      "89000/240760 completed!\n",
      "90000/240760 completed!\n",
      "91000/240760 completed!\n",
      "92000/240760 completed!\n",
      "93000/240760 completed!\n",
      "94000/240760 completed!\n",
      "95000/240760 completed!\n",
      "96000/240760 completed!\n",
      "97000/240760 completed!\n",
      "98000/240760 completed!\n",
      "99000/240760 completed!\n",
      "100000/240760 completed!\n",
      "101000/240760 completed!\n",
      "102000/240760 completed!\n",
      "103000/240760 completed!\n",
      "104000/240760 completed!\n",
      "105000/240760 completed!\n",
      "106000/240760 completed!\n",
      "107000/240760 completed!\n",
      "108000/240760 completed!\n",
      "109000/240760 completed!\n",
      "110000/240760 completed!\n",
      "111000/240760 completed!\n",
      "112000/240760 completed!\n",
      "113000/240760 completed!\n",
      "114000/240760 completed!\n",
      "115000/240760 completed!\n",
      "116000/240760 completed!\n",
      "117000/240760 completed!\n",
      "118000/240760 completed!\n",
      "119000/240760 completed!\n",
      "120000/240760 completed!\n",
      "121000/240760 completed!\n",
      "122000/240760 completed!\n",
      "123000/240760 completed!\n",
      "124000/240760 completed!\n",
      "125000/240760 completed!\n",
      "126000/240760 completed!\n",
      "127000/240760 completed!\n",
      "128000/240760 completed!\n",
      "129000/240760 completed!\n",
      "130000/240760 completed!\n",
      "131000/240760 completed!\n",
      "132000/240760 completed!\n",
      "133000/240760 completed!\n",
      "134000/240760 completed!\n",
      "135000/240760 completed!\n",
      "136000/240760 completed!\n",
      "137000/240760 completed!\n",
      "138000/240760 completed!\n",
      "139000/240760 completed!\n",
      "140000/240760 completed!\n",
      "141000/240760 completed!\n",
      "142000/240760 completed!\n",
      "143000/240760 completed!\n",
      "144000/240760 completed!\n",
      "145000/240760 completed!\n",
      "146000/240760 completed!\n",
      "147000/240760 completed!\n",
      "148000/240760 completed!\n",
      "149000/240760 completed!\n",
      "150000/240760 completed!\n",
      "151000/240760 completed!\n",
      "152000/240760 completed!\n",
      "153000/240760 completed!\n",
      "154000/240760 completed!\n",
      "155000/240760 completed!\n",
      "156000/240760 completed!\n",
      "157000/240760 completed!\n",
      "158000/240760 completed!\n",
      "159000/240760 completed!\n",
      "160000/240760 completed!\n",
      "161000/240760 completed!\n",
      "162000/240760 completed!\n",
      "163000/240760 completed!\n",
      "164000/240760 completed!\n",
      "165000/240760 completed!\n",
      "166000/240760 completed!\n",
      "167000/240760 completed!\n",
      "168000/240760 completed!\n",
      "169000/240760 completed!\n",
      "170000/240760 completed!\n",
      "171000/240760 completed!\n",
      "172000/240760 completed!\n",
      "173000/240760 completed!\n",
      "174000/240760 completed!\n",
      "175000/240760 completed!\n",
      "176000/240760 completed!\n",
      "177000/240760 completed!\n",
      "178000/240760 completed!\n",
      "179000/240760 completed!\n",
      "180000/240760 completed!\n",
      "181000/240760 completed!\n",
      "182000/240760 completed!\n",
      "183000/240760 completed!\n",
      "184000/240760 completed!\n",
      "185000/240760 completed!\n",
      "186000/240760 completed!\n",
      "187000/240760 completed!\n",
      "188000/240760 completed!\n",
      "189000/240760 completed!\n",
      "190000/240760 completed!\n",
      "191000/240760 completed!\n",
      "192000/240760 completed!\n",
      "193000/240760 completed!\n",
      "194000/240760 completed!\n",
      "195000/240760 completed!\n",
      "196000/240760 completed!\n",
      "197000/240760 completed!\n",
      "198000/240760 completed!\n",
      "199000/240760 completed!\n",
      "200000/240760 completed!\n",
      "201000/240760 completed!\n",
      "202000/240760 completed!\n",
      "203000/240760 completed!\n",
      "204000/240760 completed!\n",
      "205000/240760 completed!\n",
      "206000/240760 completed!\n",
      "207000/240760 completed!\n",
      "208000/240760 completed!\n",
      "209000/240760 completed!\n",
      "210000/240760 completed!\n",
      "211000/240760 completed!\n",
      "212000/240760 completed!\n",
      "213000/240760 completed!\n",
      "214000/240760 completed!\n",
      "215000/240760 completed!\n",
      "216000/240760 completed!\n",
      "217000/240760 completed!\n",
      "218000/240760 completed!\n",
      "219000/240760 completed!\n",
      "220000/240760 completed!\n",
      "221000/240760 completed!\n",
      "222000/240760 completed!\n",
      "223000/240760 completed!\n",
      "224000/240760 completed!\n",
      "225000/240760 completed!\n",
      "226000/240760 completed!\n",
      "227000/240760 completed!\n",
      "228000/240760 completed!\n",
      "229000/240760 completed!\n",
      "230000/240760 completed!\n",
      "231000/240760 completed!\n",
      "232000/240760 completed!\n",
      "233000/240760 completed!\n",
      "234000/240760 completed!\n",
      "235000/240760 completed!\n",
      "236000/240760 completed!\n",
      "237000/240760 completed!\n",
      "238000/240760 completed!\n",
      "239000/240760 completed!\n",
      "240000/240760 completed!\n"
     ]
    }
   ],
   "source": [
    "combined = percentQueryInProductName(combined)"
   ]
  },
  {
   "cell_type": "code",
   "execution_count": 29,
   "metadata": {
    "collapsed": false
   },
   "outputs": [
    {
     "name": "stdout",
     "output_type": "stream",
     "text": [
      "0/240760 completed!\n",
      "5000/240760 completed!\n",
      "10000/240760 completed!\n",
      "15000/240760 completed!\n",
      "20000/240760 completed!\n",
      "25000/240760 completed!\n",
      "30000/240760 completed!\n",
      "35000/240760 completed!\n",
      "40000/240760 completed!\n",
      "45000/240760 completed!\n",
      "50000/240760 completed!\n",
      "55000/240760 completed!\n",
      "60000/240760 completed!\n",
      "65000/240760 completed!\n",
      "70000/240760 completed!\n",
      "75000/240760 completed!\n",
      "80000/240760 completed!\n",
      "85000/240760 completed!\n",
      "90000/240760 completed!\n",
      "95000/240760 completed!\n",
      "100000/240760 completed!\n",
      "105000/240760 completed!\n",
      "110000/240760 completed!\n",
      "115000/240760 completed!\n",
      "120000/240760 completed!\n",
      "125000/240760 completed!\n",
      "130000/240760 completed!\n",
      "135000/240760 completed!\n",
      "140000/240760 completed!\n",
      "145000/240760 completed!\n",
      "150000/240760 completed!\n",
      "155000/240760 completed!\n",
      "160000/240760 completed!\n",
      "165000/240760 completed!\n",
      "170000/240760 completed!\n",
      "175000/240760 completed!\n",
      "180000/240760 completed!\n",
      "185000/240760 completed!\n",
      "190000/240760 completed!\n",
      "195000/240760 completed!\n",
      "200000/240760 completed!\n",
      "205000/240760 completed!\n",
      "210000/240760 completed!\n",
      "215000/240760 completed!\n",
      "220000/240760 completed!\n",
      "225000/240760 completed!\n",
      "230000/240760 completed!\n",
      "235000/240760 completed!\n",
      "240000/240760 completed!\n"
     ]
    }
   ],
   "source": [
    "combined = hasOneMatch(combined)"
   ]
  },
  {
   "cell_type": "code",
   "execution_count": 32,
   "metadata": {
    "collapsed": false
   },
   "outputs": [],
   "source": [
    "train_cleaned = combined[~combined['relevance'].isnull()]\n",
    "test_cleaned = combined[combined['relevance'].isnull()]"
   ]
  },
  {
   "cell_type": "code",
   "execution_count": 45,
   "metadata": {
    "collapsed": false
   },
   "outputs": [],
   "source": [
    "train_X = train_cleaned.drop(['id','product_title','product_uid','relevance','search_term'], axis=1)\n",
    "train_y = train_cleaned.drop(['id','product_title','product_uid','search_term','percentQueryInName','hasMatch'], \n",
    "                            axis = 1)"
   ]
  },
  {
   "cell_type": "code",
   "execution_count": 48,
   "metadata": {
    "collapsed": false
   },
   "outputs": [],
   "source": [
    "rf = RandomForestRegressor(n_estimators = 10, min_samples_split = 1, random_state = 0)"
   ]
  },
  {
   "cell_type": "code",
   "execution_count": 50,
   "metadata": {
    "collapsed": false
   },
   "outputs": [
    {
     "data": {
      "text/plain": [
       "RandomForestRegressor(bootstrap=True, criterion='mse', max_depth=None,\n",
       "           max_features='auto', max_leaf_nodes=None, min_samples_leaf=1,\n",
       "           min_samples_split=1, min_weight_fraction_leaf=0.0,\n",
       "           n_estimators=10, n_jobs=1, oob_score=False, random_state=0,\n",
       "           verbose=0, warm_start=False)"
      ]
     },
     "execution_count": 50,
     "metadata": {},
     "output_type": "execute_result"
    }
   ],
   "source": [
    "rf.fit(train_X, train_y['relevance'].ravel())"
   ]
  },
  {
   "cell_type": "code",
   "execution_count": 57,
   "metadata": {
    "collapsed": false
   },
   "outputs": [],
   "source": [
    "test_X = test_cleaned.drop(['id','product_uid','product_title','relevance','search_term'], axis = 1)"
   ]
  },
  {
   "cell_type": "code",
   "execution_count": 59,
   "metadata": {
    "collapsed": false
   },
   "outputs": [],
   "source": [
    "predictions = rf.predict(test_X)"
   ]
  },
  {
   "cell_type": "code",
   "execution_count": 65,
   "metadata": {
    "collapsed": false
   },
   "outputs": [],
   "source": [
    "predictions = np.rint(predictions)"
   ]
  },
  {
   "cell_type": "code",
   "execution_count": 66,
   "metadata": {
    "collapsed": false
   },
   "outputs": [
    {
     "data": {
      "text/plain": [
       "array([ 2.,  2.,  2., ...,  2.,  2.,  3.])"
      ]
     },
     "execution_count": 66,
     "metadata": {},
     "output_type": "execute_result"
    }
   ],
   "source": [
    "predictions"
   ]
  },
  {
   "cell_type": "code",
   "execution_count": 67,
   "metadata": {
    "collapsed": true
   },
   "outputs": [],
   "source": [
    "submission = pd.DataFrame()"
   ]
  },
  {
   "cell_type": "code",
   "execution_count": 68,
   "metadata": {
    "collapsed": true
   },
   "outputs": [],
   "source": [
    "submission['id'] = test_cleaned['id']"
   ]
  },
  {
   "cell_type": "code",
   "execution_count": 69,
   "metadata": {
    "collapsed": true
   },
   "outputs": [],
   "source": [
    "submission['relevance'] = predictions"
   ]
  },
  {
   "cell_type": "code",
   "execution_count": null,
   "metadata": {
    "collapsed": true
   },
   "outputs": [],
   "source": []
  }
 ],
 "metadata": {
  "kernelspec": {
   "display_name": "Python 2",
   "language": "python",
   "name": "python2"
  },
  "language_info": {
   "codemirror_mode": {
    "name": "ipython",
    "version": 2
   },
   "file_extension": ".py",
   "mimetype": "text/x-python",
   "name": "python",
   "nbconvert_exporter": "python",
   "pygments_lexer": "ipython2",
   "version": "2.7.10"
  }
 },
 "nbformat": 4,
 "nbformat_minor": 0
}
