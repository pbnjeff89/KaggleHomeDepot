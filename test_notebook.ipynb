{
 "cells": [
  {
   "cell_type": "code",
   "execution_count": 16,
   "metadata": {
    "collapsed": true
   },
   "outputs": [],
   "source": [
    "import pandas as pd"
   ]
  },
  {
   "cell_type": "code",
   "execution_count": 17,
   "metadata": {
    "collapsed": true
   },
   "outputs": [],
   "source": [
    "import matplotlib as mpl"
   ]
  },
  {
   "cell_type": "code",
   "execution_count": 18,
   "metadata": {
    "collapsed": true
   },
   "outputs": [],
   "source": [
    "path = 'c:/users/jeff/dropbox/kaggle_home_depot/train.csv'"
   ]
  },
  {
   "cell_type": "code",
   "execution_count": 19,
   "metadata": {
    "collapsed": false
   },
   "outputs": [],
   "source": [
    "df = pd.read_csv(path)\n",
    "attributes = pd.read_csv('c:/users/jeff/dropbox/kaggle_home_depot/attributes.csv')"
   ]
  },
  {
   "cell_type": "code",
   "execution_count": null,
   "metadata": {
    "collapsed": false,
    "scrolled": true
   },
   "outputs": [],
   "source": [
    "df.head(10)"
   ]
  },
  {
   "cell_type": "code",
   "execution_count": null,
   "metadata": {
    "collapsed": false
   },
   "outputs": [],
   "source": [
    "products = pd.DataFrame(df['product_title'])"
   ]
  },
  {
   "cell_type": "code",
   "execution_count": null,
   "metadata": {
    "collapsed": false
   },
   "outputs": [],
   "source": [
    "df['search_terms'] = df['search_term'].str.split(' ')"
   ]
  },
  {
   "cell_type": "code",
   "execution_count": null,
   "metadata": {
    "collapsed": false
   },
   "outputs": [],
   "source": [
    "df['product_title_words'] = df['product_title'].str.split(' |-')"
   ]
  },
  {
   "cell_type": "code",
   "execution_count": null,
   "metadata": {
    "collapsed": false
   },
   "outputs": [],
   "source": [
    "data_uids = df['product_uid'].unique()"
   ]
  },
  {
   "cell_type": "code",
   "execution_count": null,
   "metadata": {
    "collapsed": false
   },
   "outputs": [],
   "source": [
    "for uid in data_uids:\n",
    "    \n",
    "    brand_row = attributes[attributes['product_uid'] == uid][attributes['name'] ==\n",
    "                                                            'MFG Brand Name']\n",
    "    \n",
    "    if (brand_row['value'].isnull()) | (brand_row['value'] == 'Unbranded'):\n",
    "        df.loc[df['product_uid'] == uid,'Brand'] = 'Unbranded'"
   ]
  },
  {
   "cell_type": "code",
   "execution_count": null,
   "metadata": {
    "collapsed": false
   },
   "outputs": [],
   "source": [
    "attributes[attributes['product_uid'] == uid][attributes['name'] == 'MFG Brand Name']"
   ]
  },
  {
   "cell_type": "code",
   "execution_count": null,
   "metadata": {
    "collapsed": true
   },
   "outputs": [],
   "source": []
  },
  {
   "cell_type": "code",
   "execution_count": null,
   "metadata": {
    "collapsed": true
   },
   "outputs": [],
   "source": []
  },
  {
   "cell_type": "code",
   "execution_count": null,
   "metadata": {
    "collapsed": true
   },
   "outputs": [],
   "source": []
  },
  {
   "cell_type": "markdown",
   "metadata": {},
   "source": [
    "### Looking at the attributes"
   ]
  },
  {
   "cell_type": "code",
   "execution_count": null,
   "metadata": {
    "collapsed": true
   },
   "outputs": [],
   "source": [
    "path = 'c:/users/jeff/dropbox/kaggle_home_depot/attributes.csv'"
   ]
  },
  {
   "cell_type": "code",
   "execution_count": null,
   "metadata": {
    "collapsed": true
   },
   "outputs": [],
   "source": [
    "attributes = pd.read_csv(path)"
   ]
  },
  {
   "cell_type": "code",
   "execution_count": null,
   "metadata": {
    "collapsed": false
   },
   "outputs": [],
   "source": [
    "attributes = attributes[~attributes['product_uid'].isnull() |\n",
    "                       ~attributes['name'].isnull() |\n",
    "                       ~attributes['value'].isnull()]"
   ]
  },
  {
   "cell_type": "code",
   "execution_count": null,
   "metadata": {
    "collapsed": false
   },
   "outputs": [],
   "source": [
    "attributes.loc[attributes['name'].str.contains('Bullet'), 'name']['name'] = 'Bullet'"
   ]
  },
  {
   "cell_type": "code",
   "execution_count": null,
   "metadata": {
    "collapsed": false
   },
   "outputs": [],
   "source": [
    "product_uids = attributes[attributes['name'] == 'Bullet']['product_uid'].unique()\n",
    "\n",
    "for uid in product_uids:\n",
    "\n",
    "    bullets = attributes[(attributes['name'] == 'Bullet') & (attributes['product_uid'] == uid)]\n",
    "\n",
    "    bullet_words = []\n",
    "\n",
    "    for index,row in bullets.iterrows():\n",
    "        bullet_point_words = row['value'].split(' ')\n",
    "        for word in bullet_point_words:\n",
    "            if word not in bullet_words:\n",
    "                bullet_words.append(word)\n"
   ]
  },
  {
   "cell_type": "code",
   "execution_count": null,
   "metadata": {
    "collapsed": false
   },
   "outputs": [],
   "source": [
    "attributes[(attributes['product_uid'] != 100001) & (attributes['name'] != 'Bullet')]"
   ]
  },
  {
   "cell_type": "code",
   "execution_count": null,
   "metadata": {
    "collapsed": false
   },
   "outputs": [],
   "source": [
    "attributes[attributes['name'] != 'Bullet']"
   ]
  },
  {
   "cell_type": "code",
   "execution_count": null,
   "metadata": {
    "collapsed": false
   },
   "outputs": [],
   "source": [
    "path = 'c:/users/jeff/dropbox/kaggle_home_depot/sample_submission.csv'"
   ]
  },
  {
   "cell_type": "code",
   "execution_count": null,
   "metadata": {
    "collapsed": true
   },
   "outputs": [],
   "source": [
    "sample_sub = pd.read_csv(path)"
   ]
  },
  {
   "cell_type": "markdown",
   "metadata": {},
   "source": [
    "### Figuring out how to grab descriptions"
   ]
  },
  {
   "cell_type": "code",
   "execution_count": null,
   "metadata": {
    "collapsed": false
   },
   "outputs": [],
   "source": [
    "product_uids = attributes['product_uid'].unique()"
   ]
  },
  {
   "cell_type": "code",
   "execution_count": null,
   "metadata": {
    "collapsed": false
   },
   "outputs": [],
   "source": [
    "product_uids = pd.DataFrame(product_uids)"
   ]
  },
  {
   "cell_type": "code",
   "execution_count": null,
   "metadata": {
    "collapsed": false
   },
   "outputs": [],
   "source": [
    "product_uids = product_uids.rename(columns={0L:'uid'})"
   ]
  },
  {
   "cell_type": "code",
   "execution_count": null,
   "metadata": {
    "collapsed": false
   },
   "outputs": [],
   "source": [
    "attribute = attributes[attributes['product_uid'] == product_uids['uid'][0]]"
   ]
  },
  {
   "cell_type": "code",
   "execution_count": null,
   "metadata": {
    "collapsed": false
   },
   "outputs": [],
   "source": [
    "descriptions = pd.DataFrame(attribute.loc[attribute['name'].str.contains('Bullet'),'value'])"
   ]
  },
  {
   "cell_type": "code",
   "execution_count": null,
   "metadata": {
    "collapsed": false
   },
   "outputs": [],
   "source": [
    "description_list = []\n",
    "bullet_points = descriptions['value'].str.split(' |-')\n",
    "for bullet in bullet_points:\n",
    "    for word in bullet:\n",
    "        if word not in description_list:\n",
    "            description_list.append(word)\n",
    "description_list"
   ]
  },
  {
   "cell_type": "markdown",
   "metadata": {},
   "source": [
    "### Looking at materials, application methods, etc."
   ]
  },
  {
   "cell_type": "code",
   "execution_count": null,
   "metadata": {
    "collapsed": false
   },
   "outputs": [],
   "source": [
    "attributes.loc[attributes['name'] == 'Material']"
   ]
  },
  {
   "cell_type": "code",
   "execution_count": null,
   "metadata": {
    "collapsed": false
   },
   "outputs": [],
   "source": [
    "attributes.loc[attributes['name']=='MFG Brand Name']"
   ]
  },
  {
   "cell_type": "code",
   "execution_count": null,
   "metadata": {
    "collapsed": false
   },
   "outputs": [],
   "source": [
    "attributes.loc[attributes['name']=='Application Method']"
   ]
  },
  {
   "cell_type": "code",
   "execution_count": null,
   "metadata": {
    "collapsed": false
   },
   "outputs": [],
   "source": [
    "brands = pd.DataFrame()\n",
    "brands['Frequency'] = attributes[attributes['name'] == 'MFG Brand Name']['value'].value_counts()"
   ]
  },
  {
   "cell_type": "code",
   "execution_count": null,
   "metadata": {
    "collapsed": false
   },
   "outputs": [],
   "source": [
    "brands = brands.drop('name',axis=1)"
   ]
  },
  {
   "cell_type": "code",
   "execution_count": null,
   "metadata": {
    "collapsed": false
   },
   "outputs": [],
   "source": [
    "brands = brands.reset_index()"
   ]
  },
  {
   "cell_type": "code",
   "execution_count": null,
   "metadata": {
    "collapsed": false
   },
   "outputs": [],
   "source": [
    "brands.rename(columns={'index': 'Name'})"
   ]
  },
  {
   "cell_type": "code",
   "execution_count": null,
   "metadata": {
    "collapsed": false
   },
   "outputs": [],
   "source": [
    "%matplotlib notebook"
   ]
  },
  {
   "cell_type": "code",
   "execution_count": null,
   "metadata": {
    "collapsed": false,
    "scrolled": true
   },
   "outputs": [],
   "source": [
    "mpl.pyplot.figure()\n",
    "brands.plot(kind='bar')"
   ]
  },
  {
   "cell_type": "code",
   "execution_count": null,
   "metadata": {
    "collapsed": true
   },
   "outputs": [],
   "source": [
    "testdf = pd.read_csv('c:/users/jeff/dropbox/kaggle_home_depot/test.csv')"
   ]
  },
  {
   "cell_type": "code",
   "execution_count": 73,
   "metadata": {
    "collapsed": false
   },
   "outputs": [],
   "source": [
    "df['query_terms'] = df['search_term'].str.lower()\n",
    "df['productname_terms'] = df['product_title'].str.lower()"
   ]
  },
  {
   "cell_type": "code",
   "execution_count": 69,
   "metadata": {
    "collapsed": false
   },
   "outputs": [],
   "source": [
    "df['percentQueryInName'] = pd.Series()"
   ]
  },
  {
   "cell_type": "code",
   "execution_count": 74,
   "metadata": {
    "collapsed": false
   },
   "outputs": [],
   "source": [
    "df['query_terms'] = df['query_terms'].str.split(' |-')\n",
    "df['productname_terms'] = df['productname_terms'].str.split(' |-')"
   ]
  },
  {
   "cell_type": "code",
   "execution_count": 63,
   "metadata": {
    "collapsed": false
   },
   "outputs": [],
   "source": [
    "for i in range(len(df['query_terms'])):\n",
    "    \n",
    "    numQueryTerms = len(df['query_terms'][i])\n",
    "    numNameTerms = len(df['productname_terms'][i])\n",
    "    queryTermsInName = False\n",
    "    \n",
    "    for j in range(numQueryTerms):\n",
    "        \n",
    "        if df['query_terms'][i][j] in df['productname_terms'][i]:\n",
    "            \n",
    "            queryTermsInName = True\n",
    "    \n",
    "    df.loc[i,'queryinname'] = queryTermsInName"
   ]
  },
  {
   "cell_type": "code",
   "execution_count": 71,
   "metadata": {
    "collapsed": false
   },
   "outputs": [],
   "source": [
    "for i in range(len(df['query_terms'])):\n",
    "    \n",
    "        numQueryTerms = len(df['query_terms'][i])\n",
    "        numNameTerms = len(df['productname_terms'][i])\n",
    "        queryTermsInName = 0\n",
    "\n",
    "        for j in range(numQueryTerms):\n",
    "\n",
    "            if df['query_terms'][i][j] in df['productname_terms'][i]:\n",
    "\n",
    "                queryTermsInName += 1\n",
    "\n",
    "        df.loc[i,'percentQueryInName'] = float(queryTermsInName) / numNameTerms"
   ]
  },
  {
   "cell_type": "code",
   "execution_count": 77,
   "metadata": {
    "collapsed": false
   },
   "outputs": [],
   "source": [
    "df['BothHaveNumbers'] = pd.Series()\n",
    "\n",
    "def isNumber(string):\n",
    "    \n",
    "    try:\n",
    "        float(string)\n",
    "        return True\n",
    "    except ValueError:\n",
    "        return False\n",
    "\n",
    "for i in range(len(df['query_terms'])):\n",
    "    \n",
    "    queryNumber = False\n",
    "    productNumber = False\n",
    "    \n",
    "    for word in df['query_terms'][i]:\n",
    "        \n",
    "        if isNumber(str(word)):\n",
    "            \n",
    "            queryNumber = True\n",
    "            \n",
    "    for word in df['productname_terms'][i]:\n",
    "        \n",
    "        if isNumber(str(word)):\n",
    "            \n",
    "            productNumber = True\n",
    "            \n",
    "    if (queryNumber and productNumber):\n",
    "        \n",
    "        df['BothHaveNumbers'] = True\n",
    "        \n",
    "    else:\n",
    "        \n",
    "        df['BothHaveNumbers'] = False"
   ]
  },
  {
   "cell_type": "code",
   "execution_count": 114,
   "metadata": {
    "collapsed": false
   },
   "outputs": [],
   "source": [
    "df_train = pd.read_csv('c:/users/jeff/dropbox/kaggle_home_depot/train.csv')\n",
    "df_test = pd.read_csv('c:/users/jeff/dropbox/kaggle_home_depot/test.csv')\n",
    "combined = df_train.append(df_test)\n",
    "combined = combined.reset_index().drop('index', axis=1)"
   ]
  },
  {
   "cell_type": "code",
   "execution_count": 115,
   "metadata": {
    "collapsed": false
   },
   "outputs": [
    {
     "data": {
      "text/html": [
       "<div>\n",
       "<table border=\"1\" class=\"dataframe\">\n",
       "  <thead>\n",
       "    <tr style=\"text-align: right;\">\n",
       "      <th></th>\n",
       "      <th>id</th>\n",
       "      <th>product_title</th>\n",
       "      <th>product_uid</th>\n",
       "      <th>relevance</th>\n",
       "      <th>search_term</th>\n",
       "    </tr>\n",
       "  </thead>\n",
       "  <tbody>\n",
       "    <tr>\n",
       "      <th>0</th>\n",
       "      <td>2</td>\n",
       "      <td>Simpson Strong-Tie 12-Gauge Angle</td>\n",
       "      <td>100001</td>\n",
       "      <td>3.00</td>\n",
       "      <td>angle bracket</td>\n",
       "    </tr>\n",
       "    <tr>\n",
       "      <th>1</th>\n",
       "      <td>3</td>\n",
       "      <td>Simpson Strong-Tie 12-Gauge Angle</td>\n",
       "      <td>100001</td>\n",
       "      <td>2.50</td>\n",
       "      <td>l bracket</td>\n",
       "    </tr>\n",
       "    <tr>\n",
       "      <th>2</th>\n",
       "      <td>9</td>\n",
       "      <td>BEHR Premium Textured DeckOver 1-gal. #SC-141 ...</td>\n",
       "      <td>100002</td>\n",
       "      <td>3.00</td>\n",
       "      <td>deck over</td>\n",
       "    </tr>\n",
       "    <tr>\n",
       "      <th>3</th>\n",
       "      <td>16</td>\n",
       "      <td>Delta Vero 1-Handle Shower Only Faucet Trim Ki...</td>\n",
       "      <td>100005</td>\n",
       "      <td>2.33</td>\n",
       "      <td>rain shower head</td>\n",
       "    </tr>\n",
       "    <tr>\n",
       "      <th>4</th>\n",
       "      <td>17</td>\n",
       "      <td>Delta Vero 1-Handle Shower Only Faucet Trim Ki...</td>\n",
       "      <td>100005</td>\n",
       "      <td>2.67</td>\n",
       "      <td>shower only faucet</td>\n",
       "    </tr>\n",
       "    <tr>\n",
       "      <th>5</th>\n",
       "      <td>18</td>\n",
       "      <td>Whirlpool 1.9 cu. ft. Over the Range Convectio...</td>\n",
       "      <td>100006</td>\n",
       "      <td>3.00</td>\n",
       "      <td>convection otr</td>\n",
       "    </tr>\n",
       "    <tr>\n",
       "      <th>6</th>\n",
       "      <td>20</td>\n",
       "      <td>Whirlpool 1.9 cu. ft. Over the Range Convectio...</td>\n",
       "      <td>100006</td>\n",
       "      <td>2.67</td>\n",
       "      <td>microwave over stove</td>\n",
       "    </tr>\n",
       "    <tr>\n",
       "      <th>7</th>\n",
       "      <td>21</td>\n",
       "      <td>Whirlpool 1.9 cu. ft. Over the Range Convectio...</td>\n",
       "      <td>100006</td>\n",
       "      <td>3.00</td>\n",
       "      <td>microwaves</td>\n",
       "    </tr>\n",
       "    <tr>\n",
       "      <th>8</th>\n",
       "      <td>23</td>\n",
       "      <td>Lithonia Lighting Quantum 2-Light Black LED Em...</td>\n",
       "      <td>100007</td>\n",
       "      <td>2.67</td>\n",
       "      <td>emergency light</td>\n",
       "    </tr>\n",
       "    <tr>\n",
       "      <th>9</th>\n",
       "      <td>27</td>\n",
       "      <td>House of Fara 3/4 in. x 3 in. x 8 ft. MDF Flut...</td>\n",
       "      <td>100009</td>\n",
       "      <td>3.00</td>\n",
       "      <td>mdf 3/4</td>\n",
       "    </tr>\n",
       "    <tr>\n",
       "      <th>10</th>\n",
       "      <td>34</td>\n",
       "      <td>Valley View Industries Metal Stakes (4-Pack)</td>\n",
       "      <td>100010</td>\n",
       "      <td>2.67</td>\n",
       "      <td>steele stake</td>\n",
       "    </tr>\n",
       "    <tr>\n",
       "      <th>11</th>\n",
       "      <td>35</td>\n",
       "      <td>Toro Personal Pace Recycler 22 in. Variable Sp...</td>\n",
       "      <td>100011</td>\n",
       "      <td>3.00</td>\n",
       "      <td>briggs and stratton lawn mower</td>\n",
       "    </tr>\n",
       "    <tr>\n",
       "      <th>12</th>\n",
       "      <td>37</td>\n",
       "      <td>Toro Personal Pace Recycler 22 in. Variable Sp...</td>\n",
       "      <td>100011</td>\n",
       "      <td>3.00</td>\n",
       "      <td>gas mowe</td>\n",
       "    </tr>\n",
       "    <tr>\n",
       "      <th>13</th>\n",
       "      <td>38</td>\n",
       "      <td>Toro Personal Pace Recycler 22 in. Variable Sp...</td>\n",
       "      <td>100011</td>\n",
       "      <td>2.00</td>\n",
       "      <td>honda mower</td>\n",
       "    </tr>\n",
       "    <tr>\n",
       "      <th>14</th>\n",
       "      <td>48</td>\n",
       "      <td>Hampton Bay Caramel Simple Weave Bamboo Rollup...</td>\n",
       "      <td>100012</td>\n",
       "      <td>2.67</td>\n",
       "      <td>hampton bay chestnut pull up shade</td>\n",
       "    </tr>\n",
       "    <tr>\n",
       "      <th>15</th>\n",
       "      <td>51</td>\n",
       "      <td>InSinkErator SinkTop Switch Single Outlet for ...</td>\n",
       "      <td>100013</td>\n",
       "      <td>2.67</td>\n",
       "      <td>disposer</td>\n",
       "    </tr>\n",
       "    <tr>\n",
       "      <th>16</th>\n",
       "      <td>65</td>\n",
       "      <td>Sunjoy Calais 8 ft. x 5 ft. x 8 ft. Steel Tile...</td>\n",
       "      <td>100016</td>\n",
       "      <td>3.00</td>\n",
       "      <td>grill gazebo</td>\n",
       "    </tr>\n",
       "    <tr>\n",
       "      <th>17</th>\n",
       "      <td>69</td>\n",
       "      <td>MD Building Products 36 in. x 36 in. Cloverlea...</td>\n",
       "      <td>100017</td>\n",
       "      <td>1.00</td>\n",
       "      <td>door guards</td>\n",
       "    </tr>\n",
       "    <tr>\n",
       "      <th>18</th>\n",
       "      <td>75</td>\n",
       "      <td>MD Building Products 36 in. x 36 in. Cloverlea...</td>\n",
       "      <td>100017</td>\n",
       "      <td>1.67</td>\n",
       "      <td>metal plate cover gcfi</td>\n",
       "    </tr>\n",
       "    <tr>\n",
       "      <th>19</th>\n",
       "      <td>81</td>\n",
       "      <td>MD Building Products 36 in. x 36 in. Cloverlea...</td>\n",
       "      <td>100017</td>\n",
       "      <td>2.33</td>\n",
       "      <td>radiator grate</td>\n",
       "    </tr>\n",
       "    <tr>\n",
       "      <th>20</th>\n",
       "      <td>85</td>\n",
       "      <td>MD Building Products 36 in. x 36 in. Cloverlea...</td>\n",
       "      <td>100017</td>\n",
       "      <td>2.33</td>\n",
       "      <td>windows screens</td>\n",
       "    </tr>\n",
       "    <tr>\n",
       "      <th>21</th>\n",
       "      <td>88</td>\n",
       "      <td>House of Fara 8 Linear ft. MDF Overlapping Wai...</td>\n",
       "      <td>100019</td>\n",
       "      <td>1.33</td>\n",
       "      <td>1x1 rail decorative wood</td>\n",
       "    </tr>\n",
       "    <tr>\n",
       "      <th>22</th>\n",
       "      <td>90</td>\n",
       "      <td>House of Fara 8 Linear ft. MDF Overlapping Wai...</td>\n",
       "      <td>100019</td>\n",
       "      <td>2.67</td>\n",
       "      <td>4*8 beadboard paneling</td>\n",
       "    </tr>\n",
       "    <tr>\n",
       "      <th>23</th>\n",
       "      <td>92</td>\n",
       "      <td>House of Fara 8 Linear ft. MDF Overlapping Wai...</td>\n",
       "      <td>100019</td>\n",
       "      <td>2.33</td>\n",
       "      <td>4x8wood paneling</td>\n",
       "    </tr>\n",
       "    <tr>\n",
       "      <th>24</th>\n",
       "      <td>101</td>\n",
       "      <td>House of Fara 8 Linear ft. MDF Overlapping Wai...</td>\n",
       "      <td>100019</td>\n",
       "      <td>1.33</td>\n",
       "      <td>MDF 4x8</td>\n",
       "    </tr>\n",
       "    <tr>\n",
       "      <th>25</th>\n",
       "      <td>105</td>\n",
       "      <td>House of Fara 8 Linear ft. MDF Overlapping Wai...</td>\n",
       "      <td>100019</td>\n",
       "      <td>2.33</td>\n",
       "      <td>wainscot chair rail</td>\n",
       "    </tr>\n",
       "    <tr>\n",
       "      <th>26</th>\n",
       "      <td>106</td>\n",
       "      <td>House of Fara 8 Linear ft. MDF Overlapping Wai...</td>\n",
       "      <td>100019</td>\n",
       "      <td>2.33</td>\n",
       "      <td>wainscot plank paneling</td>\n",
       "    </tr>\n",
       "    <tr>\n",
       "      <th>27</th>\n",
       "      <td>113</td>\n",
       "      <td>1804 Dual Spray Half Pattern 4 in Pop-Up Spray...</td>\n",
       "      <td>100021</td>\n",
       "      <td>2.00</td>\n",
       "      <td>lawn sprkinler</td>\n",
       "    </tr>\n",
       "    <tr>\n",
       "      <th>28</th>\n",
       "      <td>114</td>\n",
       "      <td>1804 Dual Spray Half Pattern 4 in Pop-Up Spray...</td>\n",
       "      <td>100021</td>\n",
       "      <td>2.33</td>\n",
       "      <td>rainbird sprinkler</td>\n",
       "    </tr>\n",
       "    <tr>\n",
       "      <th>29</th>\n",
       "      <td>117</td>\n",
       "      <td>Samsung 4.2 cu. ft. Front Load Washer with Ste...</td>\n",
       "      <td>100022</td>\n",
       "      <td>2.67</td>\n",
       "      <td>PLATFORM FOR WASHERS</td>\n",
       "    </tr>\n",
       "    <tr>\n",
       "      <th>...</th>\n",
       "      <td>...</td>\n",
       "      <td>...</td>\n",
       "      <td>...</td>\n",
       "      <td>...</td>\n",
       "      <td>...</td>\n",
       "    </tr>\n",
       "    <tr>\n",
       "      <th>240730</th>\n",
       "      <td>240731</td>\n",
       "      <td>6-Panel Composite Bifold Door</td>\n",
       "      <td>224399</td>\n",
       "      <td>NaN</td>\n",
       "      <td>bifold oak 6 panel doors</td>\n",
       "    </tr>\n",
       "    <tr>\n",
       "      <th>240731</th>\n",
       "      <td>240732</td>\n",
       "      <td>Eaton CSR 200-Amp Double Pole Main Breaker Kit</td>\n",
       "      <td>224400</td>\n",
       "      <td>NaN</td>\n",
       "      <td>200 amp breaker double pole</td>\n",
       "    </tr>\n",
       "    <tr>\n",
       "      <th>240732</th>\n",
       "      <td>240733</td>\n",
       "      <td>Crown Bolt 3/16 in. Zinc Plated Steel Axle Hat...</td>\n",
       "      <td>224401</td>\n",
       "      <td>NaN</td>\n",
       "      <td>axle locking nuts</td>\n",
       "    </tr>\n",
       "    <tr>\n",
       "      <th>240733</th>\n",
       "      <td>240734</td>\n",
       "      <td>Dickies 2-Pocket Utility Knife Sheath</td>\n",
       "      <td>224402</td>\n",
       "      <td>NaN</td>\n",
       "      <td>sheath</td>\n",
       "    </tr>\n",
       "    <tr>\n",
       "      <th>240734</th>\n",
       "      <td>240735</td>\n",
       "      <td>Patio Living Concepts San Juan 60 in. Outdoor ...</td>\n",
       "      <td>224403</td>\n",
       "      <td>NaN</td>\n",
       "      <td>outdoor patio shades</td>\n",
       "    </tr>\n",
       "    <tr>\n",
       "      <th>240735</th>\n",
       "      <td>240736</td>\n",
       "      <td>Speakman Emergency Eyewash Safety Sign</td>\n",
       "      <td>224404</td>\n",
       "      <td>NaN</td>\n",
       "      <td>safety signs</td>\n",
       "    </tr>\n",
       "    <tr>\n",
       "      <th>240736</th>\n",
       "      <td>240737</td>\n",
       "      <td>Plantronics Cable for M12 and CS50/CS55 Phone</td>\n",
       "      <td>224405</td>\n",
       "      <td>NaN</td>\n",
       "      <td>phone cable</td>\n",
       "    </tr>\n",
       "    <tr>\n",
       "      <th>240737</th>\n",
       "      <td>240738</td>\n",
       "      <td>Glomar Vanguard 9-Light Textured Black Chandel...</td>\n",
       "      <td>224406</td>\n",
       "      <td>NaN</td>\n",
       "      <td>vanguard</td>\n",
       "    </tr>\n",
       "    <tr>\n",
       "      <th>240738</th>\n",
       "      <td>240739</td>\n",
       "      <td>Kwikset Milan Satin Nickel Half-Dummy Lever</td>\n",
       "      <td>224407</td>\n",
       "      <td>NaN</td>\n",
       "      <td>dummy handle</td>\n",
       "    </tr>\n",
       "    <tr>\n",
       "      <th>240739</th>\n",
       "      <td>240740</td>\n",
       "      <td>Advanced Drainage Systems 1/2 in. x 100 ft. IP...</td>\n",
       "      <td>224408</td>\n",
       "      <td>NaN</td>\n",
       "      <td>Advanced drainage systems</td>\n",
       "    </tr>\n",
       "    <tr>\n",
       "      <th>240740</th>\n",
       "      <td>240741</td>\n",
       "      <td>Magnavox 50 in. Class LED 1080p 120 BMR Slim HDTV</td>\n",
       "      <td>224409</td>\n",
       "      <td>NaN</td>\n",
       "      <td>led tvs</td>\n",
       "    </tr>\n",
       "    <tr>\n",
       "      <th>240741</th>\n",
       "      <td>240742</td>\n",
       "      <td>Ekena Millwork 7 in. x 3/4 in. x 11 in. Hillsb...</td>\n",
       "      <td>224410</td>\n",
       "      <td>NaN</td>\n",
       "      <td>l molding</td>\n",
       "    </tr>\n",
       "    <tr>\n",
       "      <th>240742</th>\n",
       "      <td>240743</td>\n",
       "      <td>Minwax 1 gal. Semi-Gloss Polycrylic Protective...</td>\n",
       "      <td>224411</td>\n",
       "      <td>NaN</td>\n",
       "      <td>minwax polycrylic</td>\n",
       "    </tr>\n",
       "    <tr>\n",
       "      <th>240743</th>\n",
       "      <td>240744</td>\n",
       "      <td>Southern Living Plant Collection 3 Gal. Pink S...</td>\n",
       "      <td>224412</td>\n",
       "      <td>NaN</td>\n",
       "      <td>camellias</td>\n",
       "    </tr>\n",
       "    <tr>\n",
       "      <th>240744</th>\n",
       "      <td>240745</td>\n",
       "      <td>GE 5.0 cu. ft. Gas Range with Self-Cleaning Ov...</td>\n",
       "      <td>224413</td>\n",
       "      <td>NaN</td>\n",
       "      <td>black gas ranges</td>\n",
       "    </tr>\n",
       "    <tr>\n",
       "      <th>240745</th>\n",
       "      <td>240746</td>\n",
       "      <td>Southwire 150 ft. 12-3 CU W/G Submersible Pump...</td>\n",
       "      <td>224414</td>\n",
       "      <td>NaN</td>\n",
       "      <td>submersible wire</td>\n",
       "    </tr>\n",
       "    <tr>\n",
       "      <th>240746</th>\n",
       "      <td>240747</td>\n",
       "      <td>Generac Protector Series 15,000-Watt 120/240-V...</td>\n",
       "      <td>224415</td>\n",
       "      <td>NaN</td>\n",
       "      <td>32kw generac protector series</td>\n",
       "    </tr>\n",
       "    <tr>\n",
       "      <th>240747</th>\n",
       "      <td>240748</td>\n",
       "      <td>KOHLER Clearflo Brass Toe Tap Bath Drain in Vi...</td>\n",
       "      <td>224416</td>\n",
       "      <td>NaN</td>\n",
       "      <td>bathroom taps</td>\n",
       "    </tr>\n",
       "    <tr>\n",
       "      <th>240748</th>\n",
       "      <td>240749</td>\n",
       "      <td>Casablanca 4-Light Maiden Bronze Ceiling Fan F...</td>\n",
       "      <td>224417</td>\n",
       "      <td>NaN</td>\n",
       "      <td>ceiling fan light fixtures</td>\n",
       "    </tr>\n",
       "    <tr>\n",
       "      <th>240749</th>\n",
       "      <td>240750</td>\n",
       "      <td>Glidden Premium 5-gal. #HDGR19 Fresh Peonies S...</td>\n",
       "      <td>224418</td>\n",
       "      <td>NaN</td>\n",
       "      <td>Peonies</td>\n",
       "    </tr>\n",
       "    <tr>\n",
       "      <th>240750</th>\n",
       "      <td>240751</td>\n",
       "      <td>Everbilt 1/8 in. x 50 ft. Reflective Black Par...</td>\n",
       "      <td>224419</td>\n",
       "      <td>NaN</td>\n",
       "      <td>paracord</td>\n",
       "    </tr>\n",
       "    <tr>\n",
       "      <th>240751</th>\n",
       "      <td>240752</td>\n",
       "      <td>Crown Bolt 5/16 in. (1/4 in.-20) x 1-1/2 in. A...</td>\n",
       "      <td>224420</td>\n",
       "      <td>NaN</td>\n",
       "      <td>2 inch  1/4-20 bolts</td>\n",
       "    </tr>\n",
       "    <tr>\n",
       "      <th>240752</th>\n",
       "      <td>240753</td>\n",
       "      <td>Universal Tubs 4.5 ft. Right Drain Wheel Chair...</td>\n",
       "      <td>224421</td>\n",
       "      <td>NaN</td>\n",
       "      <td>bath chairs</td>\n",
       "    </tr>\n",
       "    <tr>\n",
       "      <th>240753</th>\n",
       "      <td>240754</td>\n",
       "      <td>Everbilt #12 x 1-1/2 in. Phillips Brass Flat-H...</td>\n",
       "      <td>224422</td>\n",
       "      <td>NaN</td>\n",
       "      <td>1/2 brass</td>\n",
       "    </tr>\n",
       "    <tr>\n",
       "      <th>240754</th>\n",
       "      <td>240755</td>\n",
       "      <td>Coastal Shower Doors Legend Series 24 in. x 64...</td>\n",
       "      <td>224423</td>\n",
       "      <td>NaN</td>\n",
       "      <td>pivot shower doors</td>\n",
       "    </tr>\n",
       "    <tr>\n",
       "      <th>240755</th>\n",
       "      <td>240756</td>\n",
       "      <td>stufurhome Norma 24 in. W x 16 in. D x 34 in. ...</td>\n",
       "      <td>224424</td>\n",
       "      <td>NaN</td>\n",
       "      <td>24 whtie storage cabinet</td>\n",
       "    </tr>\n",
       "    <tr>\n",
       "      <th>240756</th>\n",
       "      <td>240757</td>\n",
       "      <td>Home Decorators Collection 49 in. D Alessandro...</td>\n",
       "      <td>224425</td>\n",
       "      <td>NaN</td>\n",
       "      <td>adirondeck cusion</td>\n",
       "    </tr>\n",
       "    <tr>\n",
       "      <th>240757</th>\n",
       "      <td>240758</td>\n",
       "      <td>Simpson Strong-Tie HB 3-1/2 x 14 in. Top Flang...</td>\n",
       "      <td>224426</td>\n",
       "      <td>NaN</td>\n",
       "      <td>hb</td>\n",
       "    </tr>\n",
       "    <tr>\n",
       "      <th>240758</th>\n",
       "      <td>240759</td>\n",
       "      <td>1/4 in. -20 tpi x 1-1/2 in. Stainless Steel Bu...</td>\n",
       "      <td>224427</td>\n",
       "      <td>NaN</td>\n",
       "      <td>hex sockets</td>\n",
       "    </tr>\n",
       "    <tr>\n",
       "      <th>240759</th>\n",
       "      <td>240760</td>\n",
       "      <td>Bosch 4 in. Bi-Metal Hole Saw</td>\n",
       "      <td>224428</td>\n",
       "      <td>NaN</td>\n",
       "      <td>4 inch hole saw</td>\n",
       "    </tr>\n",
       "  </tbody>\n",
       "</table>\n",
       "<p>240760 rows × 5 columns</p>\n",
       "</div>"
      ],
      "text/plain": [
       "            id                                      product_title  \\\n",
       "0            2                  Simpson Strong-Tie 12-Gauge Angle   \n",
       "1            3                  Simpson Strong-Tie 12-Gauge Angle   \n",
       "2            9  BEHR Premium Textured DeckOver 1-gal. #SC-141 ...   \n",
       "3           16  Delta Vero 1-Handle Shower Only Faucet Trim Ki...   \n",
       "4           17  Delta Vero 1-Handle Shower Only Faucet Trim Ki...   \n",
       "5           18  Whirlpool 1.9 cu. ft. Over the Range Convectio...   \n",
       "6           20  Whirlpool 1.9 cu. ft. Over the Range Convectio...   \n",
       "7           21  Whirlpool 1.9 cu. ft. Over the Range Convectio...   \n",
       "8           23  Lithonia Lighting Quantum 2-Light Black LED Em...   \n",
       "9           27  House of Fara 3/4 in. x 3 in. x 8 ft. MDF Flut...   \n",
       "10          34       Valley View Industries Metal Stakes (4-Pack)   \n",
       "11          35  Toro Personal Pace Recycler 22 in. Variable Sp...   \n",
       "12          37  Toro Personal Pace Recycler 22 in. Variable Sp...   \n",
       "13          38  Toro Personal Pace Recycler 22 in. Variable Sp...   \n",
       "14          48  Hampton Bay Caramel Simple Weave Bamboo Rollup...   \n",
       "15          51  InSinkErator SinkTop Switch Single Outlet for ...   \n",
       "16          65  Sunjoy Calais 8 ft. x 5 ft. x 8 ft. Steel Tile...   \n",
       "17          69  MD Building Products 36 in. x 36 in. Cloverlea...   \n",
       "18          75  MD Building Products 36 in. x 36 in. Cloverlea...   \n",
       "19          81  MD Building Products 36 in. x 36 in. Cloverlea...   \n",
       "20          85  MD Building Products 36 in. x 36 in. Cloverlea...   \n",
       "21          88  House of Fara 8 Linear ft. MDF Overlapping Wai...   \n",
       "22          90  House of Fara 8 Linear ft. MDF Overlapping Wai...   \n",
       "23          92  House of Fara 8 Linear ft. MDF Overlapping Wai...   \n",
       "24         101  House of Fara 8 Linear ft. MDF Overlapping Wai...   \n",
       "25         105  House of Fara 8 Linear ft. MDF Overlapping Wai...   \n",
       "26         106  House of Fara 8 Linear ft. MDF Overlapping Wai...   \n",
       "27         113  1804 Dual Spray Half Pattern 4 in Pop-Up Spray...   \n",
       "28         114  1804 Dual Spray Half Pattern 4 in Pop-Up Spray...   \n",
       "29         117  Samsung 4.2 cu. ft. Front Load Washer with Ste...   \n",
       "...        ...                                                ...   \n",
       "240730  240731                      6-Panel Composite Bifold Door   \n",
       "240731  240732     Eaton CSR 200-Amp Double Pole Main Breaker Kit   \n",
       "240732  240733  Crown Bolt 3/16 in. Zinc Plated Steel Axle Hat...   \n",
       "240733  240734              Dickies 2-Pocket Utility Knife Sheath   \n",
       "240734  240735  Patio Living Concepts San Juan 60 in. Outdoor ...   \n",
       "240735  240736             Speakman Emergency Eyewash Safety Sign   \n",
       "240736  240737      Plantronics Cable for M12 and CS50/CS55 Phone   \n",
       "240737  240738  Glomar Vanguard 9-Light Textured Black Chandel...   \n",
       "240738  240739        Kwikset Milan Satin Nickel Half-Dummy Lever   \n",
       "240739  240740  Advanced Drainage Systems 1/2 in. x 100 ft. IP...   \n",
       "240740  240741  Magnavox 50 in. Class LED 1080p 120 BMR Slim HDTV   \n",
       "240741  240742  Ekena Millwork 7 in. x 3/4 in. x 11 in. Hillsb...   \n",
       "240742  240743  Minwax 1 gal. Semi-Gloss Polycrylic Protective...   \n",
       "240743  240744  Southern Living Plant Collection 3 Gal. Pink S...   \n",
       "240744  240745  GE 5.0 cu. ft. Gas Range with Self-Cleaning Ov...   \n",
       "240745  240746  Southwire 150 ft. 12-3 CU W/G Submersible Pump...   \n",
       "240746  240747  Generac Protector Series 15,000-Watt 120/240-V...   \n",
       "240747  240748  KOHLER Clearflo Brass Toe Tap Bath Drain in Vi...   \n",
       "240748  240749  Casablanca 4-Light Maiden Bronze Ceiling Fan F...   \n",
       "240749  240750  Glidden Premium 5-gal. #HDGR19 Fresh Peonies S...   \n",
       "240750  240751  Everbilt 1/8 in. x 50 ft. Reflective Black Par...   \n",
       "240751  240752  Crown Bolt 5/16 in. (1/4 in.-20) x 1-1/2 in. A...   \n",
       "240752  240753  Universal Tubs 4.5 ft. Right Drain Wheel Chair...   \n",
       "240753  240754  Everbilt #12 x 1-1/2 in. Phillips Brass Flat-H...   \n",
       "240754  240755  Coastal Shower Doors Legend Series 24 in. x 64...   \n",
       "240755  240756  stufurhome Norma 24 in. W x 16 in. D x 34 in. ...   \n",
       "240756  240757  Home Decorators Collection 49 in. D Alessandro...   \n",
       "240757  240758  Simpson Strong-Tie HB 3-1/2 x 14 in. Top Flang...   \n",
       "240758  240759  1/4 in. -20 tpi x 1-1/2 in. Stainless Steel Bu...   \n",
       "240759  240760                      Bosch 4 in. Bi-Metal Hole Saw   \n",
       "\n",
       "        product_uid  relevance                         search_term  \n",
       "0            100001       3.00                       angle bracket  \n",
       "1            100001       2.50                           l bracket  \n",
       "2            100002       3.00                           deck over  \n",
       "3            100005       2.33                    rain shower head  \n",
       "4            100005       2.67                  shower only faucet  \n",
       "5            100006       3.00                      convection otr  \n",
       "6            100006       2.67                microwave over stove  \n",
       "7            100006       3.00                          microwaves  \n",
       "8            100007       2.67                     emergency light  \n",
       "9            100009       3.00                             mdf 3/4  \n",
       "10           100010       2.67                        steele stake  \n",
       "11           100011       3.00      briggs and stratton lawn mower  \n",
       "12           100011       3.00                            gas mowe  \n",
       "13           100011       2.00                         honda mower  \n",
       "14           100012       2.67  hampton bay chestnut pull up shade  \n",
       "15           100013       2.67                            disposer  \n",
       "16           100016       3.00                        grill gazebo  \n",
       "17           100017       1.00                         door guards  \n",
       "18           100017       1.67              metal plate cover gcfi  \n",
       "19           100017       2.33                      radiator grate  \n",
       "20           100017       2.33                     windows screens  \n",
       "21           100019       1.33            1x1 rail decorative wood  \n",
       "22           100019       2.67              4*8 beadboard paneling  \n",
       "23           100019       2.33                    4x8wood paneling  \n",
       "24           100019       1.33                             MDF 4x8  \n",
       "25           100019       2.33                 wainscot chair rail  \n",
       "26           100019       2.33             wainscot plank paneling  \n",
       "27           100021       2.00                      lawn sprkinler  \n",
       "28           100021       2.33                  rainbird sprinkler  \n",
       "29           100022       2.67                PLATFORM FOR WASHERS  \n",
       "...             ...        ...                                 ...  \n",
       "240730       224399        NaN            bifold oak 6 panel doors  \n",
       "240731       224400        NaN         200 amp breaker double pole  \n",
       "240732       224401        NaN                   axle locking nuts  \n",
       "240733       224402        NaN                              sheath  \n",
       "240734       224403        NaN                outdoor patio shades  \n",
       "240735       224404        NaN                        safety signs  \n",
       "240736       224405        NaN                         phone cable  \n",
       "240737       224406        NaN                            vanguard  \n",
       "240738       224407        NaN                        dummy handle  \n",
       "240739       224408        NaN           Advanced drainage systems  \n",
       "240740       224409        NaN                             led tvs  \n",
       "240741       224410        NaN                           l molding  \n",
       "240742       224411        NaN                   minwax polycrylic  \n",
       "240743       224412        NaN                           camellias  \n",
       "240744       224413        NaN                    black gas ranges  \n",
       "240745       224414        NaN                    submersible wire  \n",
       "240746       224415        NaN       32kw generac protector series  \n",
       "240747       224416        NaN                       bathroom taps  \n",
       "240748       224417        NaN          ceiling fan light fixtures  \n",
       "240749       224418        NaN                             Peonies  \n",
       "240750       224419        NaN                            paracord  \n",
       "240751       224420        NaN                2 inch  1/4-20 bolts  \n",
       "240752       224421        NaN                         bath chairs  \n",
       "240753       224422        NaN                           1/2 brass  \n",
       "240754       224423        NaN                  pivot shower doors  \n",
       "240755       224424        NaN            24 whtie storage cabinet  \n",
       "240756       224425        NaN                   adirondeck cusion  \n",
       "240757       224426        NaN                                  hb  \n",
       "240758       224427        NaN                         hex sockets  \n",
       "240759       224428        NaN                     4 inch hole saw  \n",
       "\n",
       "[240760 rows x 5 columns]"
      ]
     },
     "execution_count": 115,
     "metadata": {},
     "output_type": "execute_result"
    }
   ],
   "source": [
    "combined"
   ]
  },
  {
   "cell_type": "code",
   "execution_count": 104,
   "metadata": {
    "collapsed": true
   },
   "outputs": [],
   "source": [
    "def breakDownQueryNames(df):\n",
    "    \n",
    "    # Lowercase for everything to normalize\n",
    "    df['query_terms'] = df['search_term'].str.lower()\n",
    "    df['productname_terms'] = df['product_title'].str.lower()\n",
    "    df['query_terms'] = df['search_term'].str.split(' ')\n",
    "    df['productname_terms'] = df['product_title'].str.split(' ')\n",
    "    \n",
    "    return df"
   ]
  },
  {
   "cell_type": "code",
   "execution_count": 116,
   "metadata": {
    "collapsed": true
   },
   "outputs": [],
   "source": [
    "combined = breakDownQueryNames(combined)"
   ]
  },
  {
   "cell_type": "code",
   "execution_count": 112,
   "metadata": {
    "collapsed": true
   },
   "outputs": [],
   "source": [
    "combined['percentQueryInName'] = pd.Series()"
   ]
  },
  {
   "cell_type": "code",
   "execution_count": 93,
   "metadata": {
    "collapsed": true
   },
   "outputs": [],
   "source": [
    "numqt=len(combined['query_terms'][0])"
   ]
  },
  {
   "cell_type": "code",
   "execution_count": 96,
   "metadata": {
    "collapsed": false
   },
   "outputs": [],
   "source": [
    "numnt=len(combined['productname_terms'][0])"
   ]
  },
  {
   "cell_type": "code",
   "execution_count": 117,
   "metadata": {
    "collapsed": false
   },
   "outputs": [
    {
     "data": {
      "text/plain": [
       "['l', 'bracket']"
      ]
     },
     "execution_count": 117,
     "metadata": {},
     "output_type": "execute_result"
    }
   ],
   "source": [
    "combined['query_terms'][1]"
   ]
  },
  {
   "cell_type": "code",
   "execution_count": null,
   "metadata": {
    "collapsed": true
   },
   "outputs": [],
   "source": []
  },
  {
   "cell_type": "code",
   "execution_count": null,
   "metadata": {
    "collapsed": true
   },
   "outputs": [],
   "source": []
  },
  {
   "cell_type": "code",
   "execution_count": null,
   "metadata": {
    "collapsed": true
   },
   "outputs": [],
   "source": []
  },
  {
   "cell_type": "code",
   "execution_count": null,
   "metadata": {
    "collapsed": true
   },
   "outputs": [],
   "source": []
  },
  {
   "cell_type": "code",
   "execution_count": 87,
   "metadata": {
    "collapsed": false
   },
   "outputs": [],
   "source": [
    "for i in range(len(df['query_terms'])):\n",
    "\n",
    "    numQueryTerms = len(df['query_terms'][i])\n",
    "    numNameTerms = len(df['productname_terms'][i])\n",
    "    queryTermsInName = 0\n",
    "\n",
    "    for j in range(numQueryTerms):\n",
    "\n",
    "        if df['query_terms'][i][j] in df['productname_terms'][i]:\n",
    "\n",
    "            queryTermsInName += 1\n",
    "\n",
    "    df.loc[i,'percentQueryInName'] = float(queryTermsInName) / numNameTerms\n",
    "\n",
    "df = removeLists(df)\n",
    "    "
   ]
  },
  {
   "cell_type": "code",
   "execution_count": 88,
   "metadata": {
    "collapsed": false
   },
   "outputs": [
    {
     "ename": "TypeError",
     "evalue": "'Series' objects are mutable, thus they cannot be hashed",
     "output_type": "error",
     "traceback": [
      "\u001b[1;31m---------------------------------------------------------------------------\u001b[0m",
      "\u001b[1;31mTypeError\u001b[0m                                 Traceback (most recent call last)",
      "\u001b[1;32m<ipython-input-88-a9ddee58e241>\u001b[0m in \u001b[0;36m<module>\u001b[1;34m()\u001b[0m\n\u001b[1;32m----> 1\u001b[1;33m \u001b[0mcombined\u001b[0m \u001b[1;33m=\u001b[0m \u001b[0mpercentQueryInProductName\u001b[0m\u001b[1;33m(\u001b[0m\u001b[0mcombined\u001b[0m\u001b[1;33m)\u001b[0m\u001b[1;33m\u001b[0m\u001b[0m\n\u001b[0m",
      "\u001b[1;32m<ipython-input-87-ba65999859a6>\u001b[0m in \u001b[0;36mpercentQueryInProductName\u001b[1;34m(df)\u001b[0m\n\u001b[0;32m     12\u001b[0m         \u001b[1;32mfor\u001b[0m \u001b[0mj\u001b[0m \u001b[1;32min\u001b[0m \u001b[0mrange\u001b[0m\u001b[1;33m(\u001b[0m\u001b[0mnumQueryTerms\u001b[0m\u001b[1;33m)\u001b[0m\u001b[1;33m:\u001b[0m\u001b[1;33m\u001b[0m\u001b[0m\n\u001b[0;32m     13\u001b[0m \u001b[1;33m\u001b[0m\u001b[0m\n\u001b[1;32m---> 14\u001b[1;33m             \u001b[1;32mif\u001b[0m \u001b[0mdf\u001b[0m\u001b[1;33m[\u001b[0m\u001b[1;34m'query_terms'\u001b[0m\u001b[1;33m]\u001b[0m\u001b[1;33m[\u001b[0m\u001b[0mi\u001b[0m\u001b[1;33m]\u001b[0m\u001b[1;33m[\u001b[0m\u001b[0mj\u001b[0m\u001b[1;33m]\u001b[0m \u001b[1;32min\u001b[0m \u001b[0mdf\u001b[0m\u001b[1;33m[\u001b[0m\u001b[1;34m'productname_terms'\u001b[0m\u001b[1;33m]\u001b[0m\u001b[1;33m[\u001b[0m\u001b[0mi\u001b[0m\u001b[1;33m]\u001b[0m\u001b[1;33m:\u001b[0m\u001b[1;33m\u001b[0m\u001b[0m\n\u001b[0m\u001b[0;32m     15\u001b[0m \u001b[1;33m\u001b[0m\u001b[0m\n\u001b[0;32m     16\u001b[0m                 \u001b[0mqueryTermsInName\u001b[0m \u001b[1;33m+=\u001b[0m \u001b[1;36m1\u001b[0m\u001b[1;33m\u001b[0m\u001b[0m\n",
      "\u001b[1;32mc:\\Python27\\lib\\site-packages\\pandas\\core\\generic.pyc\u001b[0m in \u001b[0;36m__contains__\u001b[1;34m(self, key)\u001b[0m\n\u001b[0;32m    702\u001b[0m     \u001b[1;32mdef\u001b[0m \u001b[0m__contains__\u001b[0m\u001b[1;33m(\u001b[0m\u001b[0mself\u001b[0m\u001b[1;33m,\u001b[0m \u001b[0mkey\u001b[0m\u001b[1;33m)\u001b[0m\u001b[1;33m:\u001b[0m\u001b[1;33m\u001b[0m\u001b[0m\n\u001b[0;32m    703\u001b[0m         \u001b[1;34m\"\"\"True if the key is in the info axis \"\"\"\u001b[0m\u001b[1;33m\u001b[0m\u001b[0m\n\u001b[1;32m--> 704\u001b[1;33m         \u001b[1;32mreturn\u001b[0m \u001b[0mkey\u001b[0m \u001b[1;32min\u001b[0m \u001b[0mself\u001b[0m\u001b[1;33m.\u001b[0m\u001b[0m_info_axis\u001b[0m\u001b[1;33m\u001b[0m\u001b[0m\n\u001b[0m\u001b[0;32m    705\u001b[0m \u001b[1;33m\u001b[0m\u001b[0m\n\u001b[0;32m    706\u001b[0m     \u001b[1;33m@\u001b[0m\u001b[0mproperty\u001b[0m\u001b[1;33m\u001b[0m\u001b[0m\n",
      "\u001b[1;32mc:\\Python27\\lib\\site-packages\\pandas\\core\\index.pyc\u001b[0m in \u001b[0;36m__contains__\u001b[1;34m(self, key)\u001b[0m\n\u001b[0;32m   1044\u001b[0m \u001b[1;33m\u001b[0m\u001b[0m\n\u001b[0;32m   1045\u001b[0m     \u001b[1;32mdef\u001b[0m \u001b[0m__contains__\u001b[0m\u001b[1;33m(\u001b[0m\u001b[0mself\u001b[0m\u001b[1;33m,\u001b[0m \u001b[0mkey\u001b[0m\u001b[1;33m)\u001b[0m\u001b[1;33m:\u001b[0m\u001b[1;33m\u001b[0m\u001b[0m\n\u001b[1;32m-> 1046\u001b[1;33m         \u001b[0mhash\u001b[0m\u001b[1;33m(\u001b[0m\u001b[0mkey\u001b[0m\u001b[1;33m)\u001b[0m\u001b[1;33m\u001b[0m\u001b[0m\n\u001b[0m\u001b[0;32m   1047\u001b[0m         \u001b[1;31m# work around some kind of odd cython bug\u001b[0m\u001b[1;33m\u001b[0m\u001b[1;33m\u001b[0m\u001b[0m\n\u001b[0;32m   1048\u001b[0m         \u001b[1;32mtry\u001b[0m\u001b[1;33m:\u001b[0m\u001b[1;33m\u001b[0m\u001b[0m\n",
      "\u001b[1;32mc:\\Python27\\lib\\site-packages\\pandas\\core\\generic.pyc\u001b[0m in \u001b[0;36m__hash__\u001b[1;34m(self)\u001b[0m\n\u001b[0;32m    661\u001b[0m     \u001b[1;32mdef\u001b[0m \u001b[0m__hash__\u001b[0m\u001b[1;33m(\u001b[0m\u001b[0mself\u001b[0m\u001b[1;33m)\u001b[0m\u001b[1;33m:\u001b[0m\u001b[1;33m\u001b[0m\u001b[0m\n\u001b[0;32m    662\u001b[0m         raise TypeError('{0!r} objects are mutable, thus they cannot be'\n\u001b[1;32m--> 663\u001b[1;33m                         ' hashed'.format(self.__class__.__name__))\n\u001b[0m\u001b[0;32m    664\u001b[0m \u001b[1;33m\u001b[0m\u001b[0m\n\u001b[0;32m    665\u001b[0m     \u001b[1;32mdef\u001b[0m \u001b[0m__iter__\u001b[0m\u001b[1;33m(\u001b[0m\u001b[0mself\u001b[0m\u001b[1;33m)\u001b[0m\u001b[1;33m:\u001b[0m\u001b[1;33m\u001b[0m\u001b[0m\n",
      "\u001b[1;31mTypeError\u001b[0m: 'Series' objects are mutable, thus they cannot be hashed"
     ]
    }
   ],
   "source": [
    "combined = percentQueryInProductName(combined)"
   ]
  }
 ],
 "metadata": {
  "kernelspec": {
   "display_name": "Python 2",
   "language": "python",
   "name": "python2"
  },
  "language_info": {
   "codemirror_mode": {
    "name": "ipython",
    "version": 2
   },
   "file_extension": ".py",
   "mimetype": "text/x-python",
   "name": "python",
   "nbconvert_exporter": "python",
   "pygments_lexer": "ipython2",
   "version": "2.7.10"
  }
 },
 "nbformat": 4,
 "nbformat_minor": 0
}
